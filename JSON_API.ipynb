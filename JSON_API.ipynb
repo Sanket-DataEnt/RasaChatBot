{
 "cells": [
  {
   "cell_type": "code",
   "execution_count": 4,
   "metadata": {},
   "outputs": [],
   "source": [
    "url = 'https://api-dev.faasos.io/v1/product/get_all_product_by_store/12/lat/19.12961/long/72.92597.json'"
   ]
  },
  {
   "cell_type": "raw",
   "metadata": {},
   "source": [
    "Faasos = 3,3(brand-id,client-sourceid)\n",
    "OS : (10,10)\n",
    "Behrouz: (8,8)\n",
    "Sweetruth : (83,13)\n",
    "MO : ()"
   ]
  },
  {
   "cell_type": "code",
   "execution_count": 5,
   "metadata": {},
   "outputs": [],
   "source": [
    "import requests\n",
    "r = requests.get(url, headers={'Client-Source': '3','Client-Os': 'android','brand-id': '3'})  \n",
    "response_json = r.json()"
   ]
  },
  {
   "cell_type": "code",
   "execution_count": 13,
   "metadata": {},
   "outputs": [
    {
     "data": {
      "text/plain": [
       "'Aloo Paratha With Omelette & Muesli'"
      ]
     },
     "execution_count": 13,
     "metadata": {},
     "output_type": "execute_result"
    }
   ],
   "source": [
    "response_json['collections'][0]['products'][0]['product_name']"
   ]
  },
  {
   "cell_type": "code",
   "execution_count": null,
   "metadata": {},
   "outputs": [],
   "source": []
  }
 ],
 "metadata": {
  "kernelspec": {
   "display_name": "Python 3",
   "language": "python",
   "name": "python3"
  },
  "language_info": {
   "codemirror_mode": {
    "name": "ipython",
    "version": 3
   },
   "file_extension": ".py",
   "mimetype": "text/x-python",
   "name": "python",
   "nbconvert_exporter": "python",
   "pygments_lexer": "ipython3",
   "version": "3.6.8"
  }
 },
 "nbformat": 4,
 "nbformat_minor": 2
}
